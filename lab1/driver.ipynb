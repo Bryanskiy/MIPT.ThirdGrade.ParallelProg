{
 "cells": [
  {
   "cell_type": "code",
   "execution_count": 17,
   "id": "0eb3299f",
   "metadata": {},
   "outputs": [],
   "source": [
    "import numpy as np\n",
    "import matplotlib.pyplot as plt\n",
    "import re"
   ]
  },
  {
   "cell_type": "code",
   "execution_count": 21,
   "id": "4a21e5b0",
   "metadata": {},
   "outputs": [],
   "source": [
    "tau = 0.01\n",
    "h   = 0.01\n",
    "testsData = np.linspace(10, 2000, 200)"
   ]
  },
  {
   "cell_type": "code",
   "execution_count": null,
   "id": "762aa1e0",
   "metadata": {},
   "outputs": [],
   "source": [
    "# store tests results of naive run\n",
    "\n",
    "naive     = np.zeros(testsData.size)\n",
    "parallel4 = np.zeros(testsData.size)\n",
    "\n",
    "for i in range(testsData.size):\n",
    "    K = M = testsData[i]\n",
    "    \n",
    "    # execute naive algo\n",
    "    out = !./naive.out {K} {M} {tau} {h}\n",
    "    regexMatch = re.search(\"\\d+\\.\\d+(e-\\d+)*\", out[0])\n",
    "    naive[i] = regexMatch[0]\n",
    "    \n",
    "    # execute parallel algo\n",
    "    out = !mpirun -N 4 ./parallel.out {K} {M} {tau} {h}\n",
    "    regexMatch = re.search(\"\\d+\\.\\d+(e-\\d+)*\", out[0])\n",
    "    parallel4[i] = regexMatch[0]"
   ]
  },
  {
   "cell_type": "code",
   "execution_count": null,
   "id": "9f3df94b",
   "metadata": {},
   "outputs": [],
   "source": [
    "plt.figure(figsize = [16, 9])\n",
    "plt.plot(testsData, naive, label=\"naive\")\n",
    "plt.plot(testsData, parallel4, label=\"parallel with N = 4\")\n",
    "plt.title(label = 'time(N)')\n",
    "plt.xlabel(\"N\")\n",
    "plt.ylabel(\"time, s\")\n",
    "plt.tight_layout() \n",
    "plt.legend()\n",
    "plt.grid()\n",
    "plt.show()"
   ]
  },
  {
   "cell_type": "code",
   "execution_count": null,
   "id": "a509fef5",
   "metadata": {},
   "outputs": [],
   "source": []
  }
 ],
 "metadata": {
  "kernelspec": {
   "display_name": "Python 3 (ipykernel)",
   "language": "python",
   "name": "python3"
  },
  "language_info": {
   "codemirror_mode": {
    "name": "ipython",
    "version": 3
   },
   "file_extension": ".py",
   "mimetype": "text/x-python",
   "name": "python",
   "nbconvert_exporter": "python",
   "pygments_lexer": "ipython3",
   "version": "3.9.7"
  }
 },
 "nbformat": 4,
 "nbformat_minor": 5
}
